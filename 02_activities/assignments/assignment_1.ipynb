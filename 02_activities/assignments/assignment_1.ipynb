{
 "cells": [
  {
   "cell_type": "markdown",
   "id": "ba8ab56f",
   "metadata": {},
   "source": [
    "# Advanced Image Classification with ImageNet"
   ]
  },
  {
   "cell_type": "markdown",
   "id": "7c630244b8fe2847",
   "metadata": {
    "collapsed": false
   },
   "source": [
    "In this assignment, you will be asked to develop a convolutional neural network (CNN) to classify images from the CIFAR-100 dataset. At each step, you'll be guided through the process of developing a model architecture to solve a problem. Your goal is to create a CNN that attains at least 55% accuracy on the validation set.\n",
    "\n",
    "### The CIFAR-100 Dataset\n",
    "\n",
    "The [CIFAR-100 dataset](https://www.cs.toronto.edu/~kriz/cifar.html) consists of 60000 32x32 colour images in 100 classes, with 600 images per class. There are 50000 training images and 10000 test images. The dataset is divided into five training batches and one test batch, each with 10000 images. The test batch contains exactly 1000 randomly-selected images from each class. The training batches contain the remaining images in random order, but some training batches may contain more images from one class than another. Between them, the training batches contain exactly 500 images from each class.\n",
    "\n",
    "### Tools\n",
    "\n",
    "You will use Keras with TensorFlow to develop your CNN. For this assignment, it's strongly recommended that you use a GPU to accelerate your training, or else you might find it difficult to train your network in a reasonable amount of time. If you have a computer with a GPU that you wish to use, you can follow the [TensorFlow instructions](https://www.tensorflow.org/install/) for installing TensorFlow with GPU support. Otherwise, you can use [Google Colab](https://colab.research.google.com/) to complete this assignment. Colab provides free access to GPU-enabled machines. If you run into any issues, please contact us as soon as possible so that we can help you resolve them."
   ]
  },
  {
   "cell_type": "markdown",
   "id": "fab62988ece1528d",
   "metadata": {
    "collapsed": false
   },
   "source": [
    "## Task 1: Data Exploration and Preprocessing (Complete or Incomplete)\n",
    "### 1a: Load and Explore the Dataset\n",
    "- Use the code below to download the dataset.\n",
    "- Explore the dataset: examine the shape of the training and test sets, the dimensions of the images, and the number of classes. Show a few examples from the training set."
   ]
  },
  {
   "cell_type": "code",
   "execution_count": 1,
   "id": "8820fcdc5ae52ae2",
   "metadata": {
    "ExecuteTime": {
     "start_time": "2024-01-26T17:04:08.432758Z"
    },
    "collapsed": false,
    "is_executing": true
   },
   "outputs": [
    {
     "name": "stderr",
     "output_type": "stream",
     "text": [
      "2024-08-07 10:32:53.137910: I tensorflow/core/platform/cpu_feature_guard.cc:182] This TensorFlow binary is optimized to use available CPU instructions in performance-critical operations.\n",
      "To enable the following instructions: SSE4.1 SSE4.2 AVX AVX2 FMA, in other operations, rebuild TensorFlow with the appropriate compiler flags.\n"
     ]
    },
    {
     "name": "stdout",
     "output_type": "stream",
     "text": [
      "Downloading data from https://www.cs.toronto.edu/~kriz/cifar-100-python.tar.gz\n",
      "169001437/169001437 [==============================] - 28s 0us/step\n"
     ]
    }
   ],
   "source": [
    "from keras.datasets import cifar100\n",
    "\n",
    "# Load the CIFAR-100 dataset\n",
    "(x_train, y_train), (x_test, y_test) = cifar100.load_data(label_mode='fine')"
   ]
  },
  {
   "cell_type": "code",
   "execution_count": 8,
   "id": "a386b4072078138f",
   "metadata": {
    "collapsed": false
   },
   "outputs": [
    {
     "data": {
      "text/plain": [
       "Text(0.5, 1.0, 'x_train[0]')"
      ]
     },
     "execution_count": 8,
     "metadata": {},
     "output_type": "execute_result"
    },
    {
     "data": {
      "image/png": "[encoded data removed]",
      "text/plain": [
       "<Figure size 640x480 with 1 Axes>"
      ]
     },
     "metadata": {},
     "output_type": "display_data"
    }
   ],
   "source": [
    "%matplotlib inline\n",
    "import matplotlib.pyplot as plt\n",
    "import numpy as np\n",
    "\n",
    "from skimage.io import imread\n",
    "\n",
    "plt.imshow(x_train[0])\n",
    "plt.title('x_train[0]')"
   ]
  },
  {
   "cell_type": "code",
   "execution_count": 18,
   "id": "ec656aca",
   "metadata": {},
   "outputs": [
    {
     "data": {
      "text/plain": [
       "19"
      ]
     },
     "execution_count": 18,
     "metadata": {},
     "output_type": "execute_result"
    }
   ],
   "source": [
    "y_train[0][0]"
   ]
  },
  {
   "cell_type": "code",
   "execution_count": 15,
   "id": "6b5b40d2",
   "metadata": {},
   "outputs": [
    {
     "data": {
      "text/plain": [
       "array([[19],\n",
       "       [29],\n",
       "       [ 0],\n",
       "       ...,\n",
       "       [ 3],\n",
       "       [ 7],\n",
       "       [73]])"
      ]
     },
     "execution_count": 15,
     "metadata": {},
     "output_type": "execute_result"
    }
   ],
   "source": [
    "y_train"
   ]
  },
  {
   "cell_type": "code",
   "execution_count": 29,
   "id": "17acef6b",
   "metadata": {},
   "outputs": [
    {
     "name": "stdout",
     "output_type": "stream",
     "text": [
      "x_train shape: (50000, 32, 32, 3) y_train shape: (50000, 100)\n",
      "x_test shape: (10000, 32, 32, 3) y_test shape: (10000, 100)\n"
     ]
    }
   ],
   "source": [
    "print(f'x_train shape: {x_train.shape} y_train shape: {y_train.shape}')\n",
    "print(f'x_test shape: {x_test.shape} y_test shape: {y_test.shape}')"
   ]
  },
  {
   "cell_type": "code",
   "execution_count": 23,
   "id": "7ec1acff",
   "metadata": {},
   "outputs": [
    {
     "data": {
      "image/png": "[encoded data removed]",
      "text/plain": [
       "<Figure size 640x480 with 1 Axes>"
      ]
     },
     "metadata": {},
     "output_type": "display_data"
    }
   ],
   "source": [
    "plot = plt.hist(y_train)\n",
    "#confirm uniform distribution of training data and range of classes\n"
   ]
  },
  {
   "cell_type": "markdown",
   "id": "ad49291da3a819ea",
   "metadata": {
    "collapsed": false
   },
   "source": [
    "### 1b: Data Preprocessing (4 Marks)\n",
    "- With the data downloaded, it's time to preprocess it. Start by normalizing the images so that they all have pixel values in the range [0, 1].\n",
    "- Next, convert the labels to one-hot encoded vectors.\n",
    "- Finally, split the training set into training and validation sets. Use 80% of the training set for training and the remaining 20% for validation."
   ]
  },
  {
   "cell_type": "code",
   "execution_count": 24,
   "id": "b18c10172fa72d0c",
   "metadata": {
    "collapsed": false
   },
   "outputs": [],
   "source": [
    "from keras.layers import Rescaling\n",
    "x_train = Rescaling(1./255)(x_train)\n",
    "x_test = Rescaling(1./255)(x_test)"
   ]
  },
  {
   "cell_type": "code",
   "execution_count": 25,
   "id": "c1b6d79a",
   "metadata": {},
   "outputs": [
    {
     "data": {
      "text/plain": [
       "<tf.Tensor: shape=(32, 32, 3), dtype=float32, numpy=\n",
       "array([[[1.       , 1.       , 1.       ],\n",
       "        [0.9921569, 0.9921569, 0.9921569],\n",
       "        [0.9921569, 0.9921569, 0.9921569],\n",
       "        ...,\n",
       "        [0.9921569, 0.9921569, 0.9921569],\n",
       "        [0.9921569, 0.9921569, 0.9921569],\n",
       "        [1.       , 1.       , 1.       ]],\n",
       "\n",
       "       [[1.       , 1.       , 1.       ],\n",
       "        [1.       , 1.       , 1.       ],\n",
       "        [1.       , 1.       , 1.       ],\n",
       "        ...,\n",
       "        [1.       , 1.       , 1.       ],\n",
       "        [1.       , 1.       , 1.       ],\n",
       "        [1.       , 1.       , 1.       ]],\n",
       "\n",
       "       [[1.       , 1.       , 1.       ],\n",
       "        [1.       , 1.       , 1.       ],\n",
       "        [1.       , 1.       , 1.       ],\n",
       "        ...,\n",
       "        [1.       , 1.       , 1.       ],\n",
       "        [1.       , 1.       , 1.       ],\n",
       "        [1.       , 1.       , 1.       ]],\n",
       "\n",
       "       ...,\n",
       "\n",
       "       [[1.       , 1.       , 1.       ],\n",
       "        [1.       , 1.       , 1.       ],\n",
       "        [1.       , 1.       , 1.       ],\n",
       "        ...,\n",
       "        [1.       , 1.       , 1.       ],\n",
       "        [1.       , 1.       , 1.       ],\n",
       "        [1.       , 1.       , 1.       ]],\n",
       "\n",
       "       [[1.       , 1.       , 1.       ],\n",
       "        [1.       , 1.       , 1.       ],\n",
       "        [1.       , 1.       , 1.       ],\n",
       "        ...,\n",
       "        [1.       , 1.       , 1.       ],\n",
       "        [1.       , 1.       , 1.       ],\n",
       "        [1.       , 1.       , 1.       ]],\n",
       "\n",
       "       [[1.       , 1.       , 1.       ],\n",
       "        [0.9921569, 0.9921569, 0.9921569],\n",
       "        [0.9921569, 0.9921569, 0.9921569],\n",
       "        ...,\n",
       "        [0.9921569, 0.9921569, 0.9921569],\n",
       "        [0.9921569, 0.9921569, 0.9921569],\n",
       "        [1.       , 1.       , 1.       ]]], dtype=float32)>"
      ]
     },
     "execution_count": 25,
     "metadata": {},
     "output_type": "execute_result"
    }
   ],
   "source": [
    "x_train[1]"
   ]
  },
  {
   "cell_type": "code",
   "execution_count": 26,
   "id": "8ba9f423",
   "metadata": {},
   "outputs": [],
   "source": [
    "from keras.layers import CategoryEncoding\n",
    "y_train = CategoryEncoding(output_mode='one_hot',num_tokens=100)(y_train)\n",
    "y_test = CategoryEncoding(output_mode='one_hot',num_tokens=100)(y_test)"
   ]
  },
  {
   "cell_type": "code",
   "execution_count": 27,
   "id": "a535a555",
   "metadata": {},
   "outputs": [
    {
     "data": {
      "text/plain": [
       "<tf.Tensor: shape=(100,), dtype=float32, numpy=\n",
       "array([0., 0., 0., 0., 0., 0., 0., 0., 0., 0., 0., 0., 0., 0., 0., 0., 0.,\n",
       "       0., 0., 1., 0., 0., 0., 0., 0., 0., 0., 0., 0., 0., 0., 0., 0., 0.,\n",
       "       0., 0., 0., 0., 0., 0., 0., 0., 0., 0., 0., 0., 0., 0., 0., 0., 0.,\n",
       "       0., 0., 0., 0., 0., 0., 0., 0., 0., 0., 0., 0., 0., 0., 0., 0., 0.,\n",
       "       0., 0., 0., 0., 0., 0., 0., 0., 0., 0., 0., 0., 0., 0., 0., 0., 0.,\n",
       "       0., 0., 0., 0., 0., 0., 0., 0., 0., 0., 0., 0., 0., 0., 0.],\n",
       "      dtype=float32)>"
      ]
     },
     "execution_count": 27,
     "metadata": {},
     "output_type": "execute_result"
    }
   ],
   "source": [
    "y_train[0]"
   ]
  },
  {
   "cell_type": "markdown",
   "id": "346cb638",
   "metadata": {},
   "source": [
    "> (x_train,y_train) and (x_test,y_test) were split for validation on import => not interested in reducing training data further for validation which could introduce loss"
   ]
  },
  {
   "cell_type": "markdown",
   "id": "5993757f08c89db7",
   "metadata": {
    "collapsed": false
   },
   "source": [
    "## Task 2: Model Development (Complete or Incomplete)\n",
    "### Task 2a: Create a Baseline CNN Model\n",
    "- Design a CNN architecture. Your architecture should use convolutional layers, max pooling layers, and dense layers. You can use any number of layers, and you can experiment with different numbers of filters, filter sizes, strides, padding, etc. The design doesn't need to be perfect, but it should be unique to you.\n",
    "- Print out the model summary."
   ]
  },
  {
   "cell_type": "code",
   "execution_count": 36,
   "id": "c9edafdaf887b8d5",
   "metadata": {
    "collapsed": false
   },
   "outputs": [
    {
     "name": "stdout",
     "output_type": "stream",
     "text": [
      "Model: \"sequential_1\"\n",
      "_________________________________________________________________\n",
      " Layer (type)                Output Shape              Param #   \n",
      "=================================================================\n",
      " conv2d_1 (Conv2D)           (None, 32, 32, 128)       6272      \n",
      "                                                                 \n",
      " max_pooling2d_1 (MaxPoolin  (None, 16, 16, 128)       0         \n",
      " g2D)                                                            \n",
      "                                                                 \n",
      " flatten_1 (Flatten)         (None, 32768)             0         \n",
      "                                                                 \n",
      " dense_1 (Dense)             (None, 100)               3276900   \n",
      "                                                                 \n",
      "=================================================================\n",
      "Total params: 3283172 (12.52 MB)\n",
      "Trainable params: 3283172 (12.52 MB)\n",
      "Non-trainable params: 0 (0.00 Byte)\n",
      "_________________________________________________________________\n"
     ]
    }
   ],
   "source": [
    "from keras.models import Sequential\n",
    "from keras.layers import Input, Conv2D, MaxPooling2D, Flatten, Dense\n",
    "\n",
    "model = Sequential(\n",
    "    [Conv2D(\n",
    "        filters=128,\n",
    "        kernel_size=(4, 4),\n",
    "        padding=\"same\",\n",
    "        activation='relu',\n",
    "        input_shape=(32, 32, 3),),\n",
    "     MaxPooling2D(),\n",
    "     Flatten(),\n",
    "     Dense(100,activation='softmax'),\n",
    "     ])\n",
    "\n",
    "model.summary()"
   ]
  },
  {
   "cell_type": "markdown",
   "id": "546324c007c73db5",
   "metadata": {
    "collapsed": false
   },
   "source": [
    "### Task 2b: Compile the model\n",
    "\n",
    "- Select an appropriate loss function and optimizer for your model. These can be ones we have looked at already, or they can be different. \n",
    "- Briefly explain your choices (one or two sentences each).\n",
    "- <b>Loss function:</b> ______\n",
    "- <b>Optimizer:</b> ______"
   ]
  },
  {
   "cell_type": "code",
   "execution_count": 37,
   "id": "ab39f4ba69d684e9",
   "metadata": {
    "collapsed": false
   },
   "outputs": [],
   "source": [
    "from keras import optimizers\n",
    "\n",
    "from keras import optimizers\n",
    "model.compile(\n",
    "    optimizer='adam',\n",
    "    loss='categorical_crossentropy',\n",
    "    metrics=['accuracy'],\n",
    ")"
   ]
  },
  {
   "cell_type": "markdown",
   "id": "653fba928413b9f6",
   "metadata": {
    "collapsed": false
   },
   "source": [
    "## Task 3: Model Training and Evaluation (Complete or Incomplete)\n",
    "### Task 3a: Train the Model\n",
    "\n",
    "- Train your model for an appropriate number of epochs. Explain your choice of the number of epochs used - you can change this number before submitting your assignment.\n",
    "- Use a batch size of 32.\n",
    "- Use the validation set for validation."
   ]
  },
  {
   "cell_type": "code",
   "execution_count": 38,
   "id": "9de74f274ad08546",
   "metadata": {
    "collapsed": false
   },
   "outputs": [
    {
     "name": "stdout",
     "output_type": "stream",
     "text": [
      "Epoch 1/10\n"
     ]
    },
    {
     "name": "stdout",
     "output_type": "stream",
     "text": [
      "1563/1563 [==============================] - 122s 77ms/step - loss: 3.4360 - accuracy: 0.2080\n",
      "Epoch 2/10\n",
      "1563/1563 [==============================] - 160s 102ms/step - loss: 2.6729 - accuracy: 0.3513\n",
      "Epoch 3/10\n",
      "1563/1563 [==============================] - 138s 88ms/step - loss: 2.2531 - accuracy: 0.4408\n",
      "Epoch 4/10\n",
      "1563/1563 [==============================] - 133s 85ms/step - loss: 1.8674 - accuracy: 0.5250\n",
      "Epoch 5/10\n",
      "1563/1563 [==============================] - 141s 90ms/step - loss: 1.5135 - accuracy: 0.6090\n",
      "Epoch 6/10\n",
      "1563/1563 [==============================] - 143s 91ms/step - loss: 1.2038 - accuracy: 0.6879\n",
      "Epoch 7/10\n",
      "1563/1563 [==============================] - 153s 98ms/step - loss: 0.9524 - accuracy: 0.7508\n",
      "Epoch 8/10\n",
      "1563/1563 [==============================] - 145s 93ms/step - loss: 0.7463 - accuracy: 0.8051\n",
      "Epoch 9/10\n",
      "1563/1563 [==============================] - 148s 94ms/step - loss: 0.5760 - accuracy: 0.8530\n",
      "Epoch 10/10\n",
      "1563/1563 [==============================] - 144s 92ms/step - loss: 0.4501 - accuracy: 0.8857\n",
      "313/313 [==============================] - 8s 25ms/step - loss: 4.8895 - accuracy: 0.3157\n",
      "Loss (categorical_crossentropy):     4.89\n",
      "Accuracy: 31.57%\n"
     ]
    }
   ],
   "source": [
    "history = model.fit(\n",
    "    x_train,\n",
    "    y_train,\n",
    "    epochs=10, # chose 25 and found accuracy 30 loss 9.19 which exceeded every step here\n",
    "    batch_size=32,\n",
    ")\n",
    "\n",
    "loss, accuracy = model.evaluate(x_test, y_test)\n",
    "\n",
    "print(f'Loss (categorical_crossentropy):     {loss:.2f}')\n",
    "print(f'Accuracy: {accuracy*100:.2f}%')"
   ]
  },
  {
   "cell_type": "markdown",
   "id": "b48615c26b99d2e9",
   "metadata": {
    "collapsed": false
   },
   "source": [
    "### Task 3b: Accuracy and other relevant metrics on the test set\n",
    "\n",
    "- Report the accuracy of your model on the test set.\n",
    "- While accuracy is a good metric, there are many other ways to numerically evaluate a model. Report at least one other metric, and explain what it measures and how it is calculated.\n",
    "\n",
    "- <b>Accuracy:</b> ______\n",
    "- <b>Other metric:</b> ______\n",
    "- <b>Reason for selection:</b> _____\n",
    "- <b>Value of metric:</b> ______\n",
    "- <b>Interpretation of metric value:</b> ______"
   ]
  },
  {
   "cell_type": "markdown",
   "id": "81c6a040",
   "metadata": {},
   "source": [
    "* Accuracy: 31.57\n",
    "* Loss categorical cross-entropy: 4.89\n",
    "* Reason for categorical cross-entropy: the context of this task is classifying categorical labels with using a neural network that has softmax activation which satisfies the prerequisites of the chosen metric. In general the metric chosen reduces the impact of outliers. The metric has properties that make it useful for gradient descent.\n",
    "* interpretation: Lower is better, really looking for a loss of 1 or less, had a loss of 9+, we should try a deeper pipeline to learn with to improve these results."
   ]
  },
  {
   "cell_type": "markdown",
   "id": "58d2d836d4e8ce99",
   "metadata": {
    "collapsed": false
   },
   "source": [
    "### Task 3c: Visualize the model's learning\n",
    "\n",
    "- Plot the training accuracy and validation accuracy with respect to epochs.\n",
    "- Select an image that the model correctly classified in the test set, and an image that the model incorrectly classified in the test set. Plot the images and report the model's classification probabilities for each.\n",
    "- Briefly discuss the results. What do the plots show? Do the results make sense? What do the classification probabilities indicate?"
   ]
  },
  {
   "cell_type": "code",
   "execution_count": 45,
   "id": "c5b214475a496ca5",
   "metadata": {
    "ExecuteTime": {
     "end_time": "2024-01-26T17:50:59.733968Z",
     "start_time": "2024-01-26T17:50:59.730635Z"
    },
    "collapsed": false
   },
   "outputs": [
    {
     "data": {
      "image/png": "[encoded data removed]",
      "text/plain": [
       "<Figure size 640x480 with 1 Axes>"
      ]
     },
     "metadata": {},
     "output_type": "display_data"
    }
   ],
   "source": [
    "# reference: github.com/Uoft-DSI/deep_learning/01_materials/labs/lab5.ipynb\n",
    "import matplotlib.pyplot as plt\n",
    "plt.plot(np.log(history.history[\"loss\"]), label=\"loss\")\n",
    "plt.plot(np.log(history.history[\"accuracy\"]), label=\"accuracy\")\n",
    "plt.legend(loc=\"upper center\")\n",
    "plt.xlabel(\"Epochs\")\n",
    "plt.ylabel(\"Loss\")\n",
    "plt.title(\"Training accuracy and loss\")\n",
    "plt.show()"
   ]
  },
  {
   "cell_type": "markdown",
   "id": "df183493",
   "metadata": {},
   "source": [
    "We observe see that the accuracy rose and the loss fell throughout the training indicating the model's learning. However inspecting the discrepancy between training metrics and validation metrics as follows\n",
    "\n",
    "Training\n",
    "* Accuracy: .8857\n",
    "* Loss: 0.4501\n",
    "\n",
    "Validation\n",
    "* Accuracy:.3157\n",
    "* Loss: 4.89\n",
    "\n",
    "We find that the actual performance of the model is far below the performance represented by training metrics. When this happens it is a sign that our model is over-fitting the data."
   ]
  },
  {
   "cell_type": "markdown",
   "id": "a648758ebea0561d",
   "metadata": {
    "collapsed": false
   },
   "source": [
    "## Task 4: Model Enhancement (Complete or Incomplete)\n",
    "### Task 4a: Implementation of at least one advanced technique\n",
    "\n",
    "- Now it's time to improve your model. Implement at least one technique to improve your model's performance. You can use any of the techniques we have covered in class, or you can use a technique that we haven't covered. If you need inspiration, you can refer to the [Keras documentation](https://keras.io/).\n",
    "- Explain the technique you used and why you chose it.\n",
    "- If you used a technique that requires tuning, explain how you selected the values for the hyperparameters."
   ]
  },
  {
   "cell_type": "code",
   "execution_count": 78,
   "id": "f3659ac83122567f",
   "metadata": {
    "collapsed": false
   },
   "outputs": [
    {
     "name": "stdout",
     "output_type": "stream",
     "text": [
      "Model: \"DenseNet\"\n",
      "_________________________________________________________________\n",
      " Layer (type)                Output Shape              Param #   \n",
      "=================================================================\n",
      " input_9 (InputLayer)        [(None, 32, 32, 3)]       0         \n",
      "                                                                 \n",
      " initial_conv2D (Conv2D)     (None, 32, 32, 16)        432       \n",
      "                                                                 \n",
      " batch_normalization_28 (Ba  (None, 32, 32, 16)        64        \n",
      " tchNormalization)                                               \n",
      "                                                                 \n",
      " activation_28 (Activation)  (None, 32, 32, 16)        0         \n",
      "                                                                 \n",
      " conv2d_24 (Conv2D)          (None, 32, 32, 16)        2304      \n",
      "                                                                 \n",
      " dropout_22 (Dropout)        (None, 32, 32, 16)        0         \n",
      "                                                                 \n",
      " batch_normalization_29 (Ba  (None, 32, 32, 16)        64        \n",
      " tchNormalization)                                               \n",
      "                                                                 \n",
      " activation_29 (Activation)  (None, 32, 32, 16)        0         \n",
      "                                                                 \n",
      " conv2d_25 (Conv2D)          (None, 32, 32, 16)        256       \n",
      "                                                                 \n",
      " dropout_23 (Dropout)        (None, 32, 32, 16)        0         \n",
      "                                                                 \n",
      " average_pooling2d_8 (Avera  (None, 16, 16, 16)        0         \n",
      " gePooling2D)                                                    \n",
      "                                                                 \n",
      " batch_normalization_30 (Ba  (None, 16, 16, 16)        64        \n",
      " tchNormalization)                                               \n",
      "                                                                 \n",
      " activation_30 (Activation)  (None, 16, 16, 16)        0         \n",
      "                                                                 \n",
      " conv2d_26 (Conv2D)          (None, 16, 16, 28)        4032      \n",
      "                                                                 \n",
      " dropout_24 (Dropout)        (None, 16, 16, 28)        0         \n",
      "                                                                 \n",
      " batch_normalization_31 (Ba  (None, 16, 16, 28)        112       \n",
      " tchNormalization)                                               \n",
      "                                                                 \n",
      " activation_31 (Activation)  (None, 16, 16, 28)        0         \n",
      "                                                                 \n",
      " conv2d_27 (Conv2D)          (None, 16, 16, 16)        448       \n",
      "                                                                 \n",
      " dropout_25 (Dropout)        (None, 16, 16, 16)        0         \n",
      "                                                                 \n",
      " average_pooling2d_9 (Avera  (None, 8, 8, 16)          0         \n",
      " gePooling2D)                                                    \n",
      "                                                                 \n",
      " batch_normalization_32 (Ba  (None, 8, 8, 16)          64        \n",
      " tchNormalization)                                               \n",
      "                                                                 \n",
      " activation_32 (Activation)  (None, 8, 8, 16)          0         \n",
      "                                                                 \n",
      " conv2d_28 (Conv2D)          (None, 8, 8, 40)          5760      \n",
      "                                                                 \n",
      " dropout_26 (Dropout)        (None, 8, 8, 40)          0         \n",
      "                                                                 \n",
      " batch_normalization_33 (Ba  (None, 8, 8, 40)          160       \n",
      " tchNormalization)                                               \n",
      "                                                                 \n",
      " activation_33 (Activation)  (None, 8, 8, 40)          0         \n",
      "                                                                 \n",
      " conv2d_29 (Conv2D)          (None, 8, 8, 16)          640       \n",
      "                                                                 \n",
      " dropout_27 (Dropout)        (None, 8, 8, 16)          0         \n",
      "                                                                 \n",
      " average_pooling2d_10 (Aver  (None, 4, 4, 16)          0         \n",
      " agePooling2D)                                                   \n",
      "                                                                 \n",
      " batch_normalization_34 (Ba  (None, 4, 4, 16)          64        \n",
      " tchNormalization)                                               \n",
      "                                                                 \n",
      " activation_34 (Activation)  (None, 4, 4, 16)          0         \n",
      "                                                                 \n",
      " conv2d_30 (Conv2D)          (None, 4, 4, 52)          7488      \n",
      "                                                                 \n",
      " dropout_28 (Dropout)        (None, 4, 4, 52)          0         \n",
      "                                                                 \n",
      " batch_normalization_35 (Ba  (None, 4, 4, 52)          208       \n",
      " tchNormalization)                                               \n",
      "                                                                 \n",
      " activation_35 (Activation)  (None, 4, 4, 52)          0         \n",
      "                                                                 \n",
      " global_average_pooling2d_6  (None, 52)                0         \n",
      "  (GlobalAveragePooling2D)                                       \n",
      "                                                                 \n",
      " dense_8 (Dense)             (None, 100)               5300      \n",
      "                                                                 \n",
      "=================================================================\n",
      "Total params: 27460 (107.27 KB)\n",
      "Trainable params: 27060 (105.70 KB)\n",
      "Non-trainable params: 400 (1.56 KB)\n",
      "_________________________________________________________________\n"
     ]
    }
   ],
   "source": [
    "# inspiration from CIFAR benchmarks, citing the DenseNet paper: https://arxiv.org/abs/1608.06993\n",
    "# a Keras implementation @  https://github.com/tdeboissiere/DeepLearningImplementations/tree/master/DenseNet\n",
    "from keras.models import Model\n",
    "from keras.layers import Dense, Dropout, Activation, Conv2D, AveragePooling2D, GlobalAveragePooling2D, Input, Concatenate, BatchNormalization\n",
    "from keras.regularizers import l2\n",
    "import keras.backend as K\n",
    "\n",
    "# if K.common.image_dim_ordering() == \"th\":\n",
    "#     concat_axis = 1\n",
    "# elif K.common.image_dim_ordering() == \"tf\":\n",
    "#     concat_axis = -1\n",
    "concat_axis = -1\n",
    "\n",
    "#Initialize densenet\n",
    "nb_filter = 16\n",
    "growth_rate = 12\n",
    "img_dim = x_train.shape[1:]\n",
    "model_input = Input(shape=img_dim)\n",
    "x = Conv2D(filters=16,\n",
    "           kernel_size=(3, 3),\n",
    "           kernel_initializer=\"he_uniform\",\n",
    "           padding=\"same\",\n",
    "           name=\"initial_conv2D\",\n",
    "           use_bias=False,\n",
    "           kernel_regularizer=l2(1E-4))(model_input)\n",
    "###\n",
    "#1st Dense Block\n",
    "###\n",
    "x = BatchNormalization(axis=concat_axis,\n",
    "                        gamma_regularizer=l2(1E-4),\n",
    "                        beta_regularizer=l2(1E-4))(x)\n",
    "x = Activation('relu')(x)\n",
    "x = Conv2D(nb_filter, (3, 3),\n",
    "            kernel_initializer=\"he_uniform\",\n",
    "            padding=\"same\",\n",
    "            use_bias=False,\n",
    "            kernel_regularizer=l2(1E-4))(x)\n",
    "x = Dropout(0.2)(x)\n",
    "nb_filter += growth_rate\n",
    "###\n",
    "#1st Transition\n",
    "###\n",
    "x = BatchNormalization(axis=concat_axis,\n",
    "                           gamma_regularizer=l2(1E-4),\n",
    "                           beta_regularizer=l2(1E-4))(x)\n",
    "x = Activation('relu')(x)\n",
    "x = Conv2D(16, (1, 1),\n",
    "            kernel_initializer=\"he_uniform\",\n",
    "            padding=\"same\",\n",
    "            use_bias=False,\n",
    "            kernel_regularizer=l2(1E-4))(x)\n",
    "\n",
    "x = Dropout(0.2)(x)\n",
    "x = AveragePooling2D((2, 2), strides=(2, 2))(x)\n",
    "###\n",
    "#2nd Dense Block\n",
    "###\n",
    "x = BatchNormalization(axis=concat_axis,\n",
    "                        gamma_regularizer=l2(1E-4),\n",
    "                        beta_regularizer=l2(1E-4))(x)\n",
    "x = Activation('relu')(x)\n",
    "x = Conv2D(nb_filter, (3, 3),\n",
    "            kernel_initializer=\"he_uniform\",\n",
    "            padding=\"same\",\n",
    "            use_bias=False,\n",
    "            kernel_regularizer=l2(1E-4))(x)\n",
    "x = Dropout(0.2)(x)\n",
    "nb_filter += growth_rate\n",
    "###\n",
    "#2nd Transition\n",
    "x = BatchNormalization(axis=concat_axis,\n",
    "                           gamma_regularizer=l2(1E-4),\n",
    "                           beta_regularizer=l2(1E-4))(x)\n",
    "x = Activation('relu')(x)\n",
    "x = Conv2D(16, (1, 1),\n",
    "            kernel_initializer=\"he_uniform\",\n",
    "            padding=\"same\",\n",
    "            use_bias=False,\n",
    "            kernel_regularizer=l2(1E-4))(x)\n",
    "\n",
    "x = Dropout(0.2)(x)\n",
    "x = AveragePooling2D((2, 2), strides=(2, 2))(x)\n",
    "###\n",
    "###\n",
    "#3rd Dense Block\n",
    "###\n",
    "x = BatchNormalization(axis=concat_axis,\n",
    "                        gamma_regularizer=l2(1E-4),\n",
    "                        beta_regularizer=l2(1E-4))(x)\n",
    "x = Activation('relu')(x)\n",
    "x = Conv2D(nb_filter, (3, 3),\n",
    "            kernel_initializer=\"he_uniform\",\n",
    "            padding=\"same\",\n",
    "            use_bias=False,\n",
    "            kernel_regularizer=l2(1E-4))(x)\n",
    "x = Dropout(0.2)(x)\n",
    "nb_filter += growth_rate\n",
    "###\n",
    "#3rd Transition\n",
    "###\n",
    "x = BatchNormalization(axis=concat_axis,\n",
    "                           gamma_regularizer=l2(1E-4),\n",
    "                           beta_regularizer=l2(1E-4))(x)\n",
    "x = Activation('relu')(x)\n",
    "x = Conv2D(16, (1, 1),\n",
    "            kernel_initializer=\"he_uniform\",\n",
    "            padding=\"same\",\n",
    "            use_bias=False,\n",
    "            kernel_regularizer=l2(1E-4))(x)\n",
    "\n",
    "x = Dropout(0.2)(x)\n",
    "x = AveragePooling2D((2, 2), strides=(2, 2))(x)\n",
    "###\n",
    "#4th Dense Block\n",
    "###\n",
    "x = BatchNormalization(axis=concat_axis,\n",
    "                        gamma_regularizer=l2(1E-4),\n",
    "                        beta_regularizer=l2(1E-4))(x)\n",
    "x = Activation('relu')(x)\n",
    "x = Conv2D(nb_filter, (3, 3),\n",
    "            kernel_initializer=\"he_uniform\",\n",
    "            padding=\"same\",\n",
    "            use_bias=False,\n",
    "            kernel_regularizer=l2(1E-4))(x)\n",
    "x = Dropout(0.2)(x)\n",
    "nb_filter += growth_rate\n",
    "###\n",
    "#Classify\n",
    "###\n",
    "x = BatchNormalization(axis=concat_axis,\n",
    "                           gamma_regularizer=l2(1E-4),\n",
    "                           beta_regularizer=l2(1E-4))(x)\n",
    "x = Activation('relu')(x)\n",
    "x = GlobalAveragePooling2D(data_format=K.image_data_format())(x)\n",
    "x = Dense(100,\n",
    "            activation='softmax',\n",
    "            kernel_regularizer=l2(1E-4),\n",
    "            bias_regularizer=l2(1E-4))(x) #100 image classes\n",
    "\n",
    "model = Model(inputs=[model_input], outputs=[x], name=\"DenseNet\")\n",
    "model.summary()"
   ]
  },
  {
   "cell_type": "code",
   "execution_count": 79,
   "id": "8fc1cf55",
   "metadata": {},
   "outputs": [],
   "source": [
    "from keras.optimizers import Adam\n",
    "opt = Adam(learning_rate=1E-3, beta_1=0.9, beta_2=0.999, epsilon=1e-08)\n",
    "model.compile(loss='categorical_crossentropy',\n",
    "                  optimizer=opt,\n",
    "                  metrics=[\"accuracy\"])"
   ]
  },
  {
   "cell_type": "markdown",
   "id": "d9467a483a1dd5d3",
   "metadata": {
    "collapsed": false
   },
   "source": [
    "### Task 4b: Evaluation of the enhanced model\n",
    "\n",
    "- Re-train your model using the same number of epochs as before.\n",
    "- Compare the accuracy and other selected metric on the test set to the results you obtained before.\n",
    "- As before, plot the training accuracy and validation accuracy with respect to epochs, and select an image that the model correctly classified in the test set, and an image that the model incorrectly classified in the test set. Plot the images and report the model's classification probabilities for each."
   ]
  },
  {
   "cell_type": "code",
   "execution_count": 81,
   "id": "7c4701b36dc8fc55",
   "metadata": {
    "collapsed": false
   },
   "outputs": [
    {
     "name": "stdout",
     "output_type": "stream",
     "text": [
      "Epoch 1/150\n",
      "49/49 [==============================] - 116s 2s/step - loss: 3.8424 - accuracy: 0.1156\n",
      "Epoch 2/150\n",
      "49/49 [==============================] - 103s 2s/step - loss: 3.7388 - accuracy: 0.1305\n",
      "Epoch 3/150\n",
      "49/49 [==============================] - 102s 2s/step - loss: 3.6642 - accuracy: 0.1420\n",
      "Epoch 4/150\n",
      "49/49 [==============================] - 101s 2s/step - loss: 3.5971 - accuracy: 0.1503\n",
      "Epoch 5/150\n",
      "49/49 [==============================] - 101s 2s/step - loss: 3.5435 - accuracy: 0.1589\n",
      "Epoch 6/150\n",
      "49/49 [==============================] - 101s 2s/step - loss: 3.4880 - accuracy: 0.1683\n",
      "Epoch 7/150\n",
      "49/49 [==============================] - 107s 2s/step - loss: 3.4356 - accuracy: 0.1773\n",
      "Epoch 8/150\n",
      "49/49 [==============================] - 108s 2s/step - loss: 3.3867 - accuracy: 0.1863\n",
      "Epoch 9/150\n",
      "49/49 [==============================] - 106s 2s/step - loss: 3.3290 - accuracy: 0.1964\n",
      "Epoch 10/150\n",
      "49/49 [==============================] - 107s 2s/step - loss: 3.2887 - accuracy: 0.2018\n",
      "Epoch 11/150\n",
      "49/49 [==============================] - 105s 2s/step - loss: 3.2462 - accuracy: 0.2123\n",
      "Epoch 12/150\n",
      "49/49 [==============================] - 103s 2s/step - loss: 3.2047 - accuracy: 0.2202\n",
      "Epoch 13/150\n",
      "49/49 [==============================] - 102s 2s/step - loss: 3.1699 - accuracy: 0.2234\n",
      "Epoch 14/150\n",
      "49/49 [==============================] - 103s 2s/step - loss: 3.1392 - accuracy: 0.2310\n",
      "Epoch 15/150\n",
      "49/49 [==============================] - 102s 2s/step - loss: 3.1078 - accuracy: 0.2365\n",
      "Epoch 16/150\n",
      "49/49 [==============================] - 101s 2s/step - loss: 3.0737 - accuracy: 0.2435\n",
      "Epoch 17/150\n",
      "49/49 [==============================] - 101s 2s/step - loss: 3.0501 - accuracy: 0.2502\n",
      "Epoch 18/150\n",
      "49/49 [==============================] - 98s 2s/step - loss: 3.0245 - accuracy: 0.2535\n",
      "Epoch 19/150\n",
      "49/49 [==============================] - 86s 2s/step - loss: 3.0023 - accuracy: 0.2588\n",
      "Epoch 20/150\n",
      "49/49 [==============================] - 86s 2s/step - loss: 2.9829 - accuracy: 0.2627\n",
      "Epoch 21/150\n",
      "49/49 [==============================] - 86s 2s/step - loss: 2.9645 - accuracy: 0.2664\n",
      "Epoch 22/150\n",
      "49/49 [==============================] - 85s 2s/step - loss: 2.9424 - accuracy: 0.2687\n",
      "Epoch 23/150\n",
      "49/49 [==============================] - 86s 2s/step - loss: 2.9193 - accuracy: 0.2743\n",
      "Epoch 24/150\n",
      "49/49 [==============================] - 85s 2s/step - loss: 2.9092 - accuracy: 0.2787\n",
      "Epoch 25/150\n",
      "49/49 [==============================] - 85s 2s/step - loss: 2.8869 - accuracy: 0.2822\n",
      "Epoch 26/150\n",
      "49/49 [==============================] - 86s 2s/step - loss: 2.8762 - accuracy: 0.2843\n",
      "Epoch 27/150\n",
      "49/49 [==============================] - 85s 2s/step - loss: 2.8589 - accuracy: 0.2901\n",
      "Epoch 28/150\n",
      "49/49 [==============================] - 85s 2s/step - loss: 2.8475 - accuracy: 0.2889\n",
      "Epoch 29/150\n",
      "49/49 [==============================] - 85s 2s/step - loss: 2.8342 - accuracy: 0.2914\n",
      "Epoch 30/150\n",
      "49/49 [==============================] - 85s 2s/step - loss: 2.8211 - accuracy: 0.2952\n",
      "Epoch 31/150\n",
      "49/49 [==============================] - 85s 2s/step - loss: 2.8007 - accuracy: 0.2984\n",
      "Epoch 32/150\n",
      "49/49 [==============================] - 87s 2s/step - loss: 2.7986 - accuracy: 0.3016\n",
      "Epoch 33/150\n",
      "49/49 [==============================] - 89s 2s/step - loss: 2.7828 - accuracy: 0.3027\n",
      "Epoch 34/150\n",
      "49/49 [==============================] - 86s 2s/step - loss: 2.7725 - accuracy: 0.3063\n",
      "Epoch 35/150\n",
      "49/49 [==============================] - 85s 2s/step - loss: 2.7596 - accuracy: 0.3076\n",
      "Epoch 36/150\n",
      "49/49 [==============================] - 85s 2s/step - loss: 2.7499 - accuracy: 0.3095\n",
      "Epoch 37/150\n",
      "49/49 [==============================] - 86s 2s/step - loss: 2.7378 - accuracy: 0.3136\n",
      "Epoch 38/150\n",
      "49/49 [==============================] - 84s 2s/step - loss: 2.7307 - accuracy: 0.3138\n",
      "Epoch 39/150\n",
      "49/49 [==============================] - 85s 2s/step - loss: 2.7257 - accuracy: 0.3178\n",
      "Epoch 40/150\n",
      "49/49 [==============================] - 85s 2s/step - loss: 2.7093 - accuracy: 0.3205\n",
      "Epoch 41/150\n",
      "49/49 [==============================] - 85s 2s/step - loss: 2.6976 - accuracy: 0.3225\n",
      "Epoch 42/150\n",
      "49/49 [==============================] - 85s 2s/step - loss: 2.6994 - accuracy: 0.3223\n",
      "Epoch 43/150\n",
      "49/49 [==============================] - 85s 2s/step - loss: 2.6877 - accuracy: 0.3252\n",
      "Epoch 44/150\n",
      "49/49 [==============================] - 85s 2s/step - loss: 2.6820 - accuracy: 0.3239\n",
      "Epoch 45/150\n",
      "49/49 [==============================] - 85s 2s/step - loss: 2.6681 - accuracy: 0.3281\n",
      "Epoch 46/150\n",
      "49/49 [==============================] - 85s 2s/step - loss: 2.6577 - accuracy: 0.3312\n",
      "Epoch 47/150\n",
      "49/49 [==============================] - 85s 2s/step - loss: 2.6487 - accuracy: 0.3325\n",
      "Epoch 48/150\n",
      "49/49 [==============================] - 85s 2s/step - loss: 2.6447 - accuracy: 0.3339\n",
      "Epoch 49/150\n",
      "49/49 [==============================] - 85s 2s/step - loss: 2.6395 - accuracy: 0.3341\n",
      "Epoch 50/150\n",
      "49/49 [==============================] - 86s 2s/step - loss: 2.6259 - accuracy: 0.3385\n",
      "Epoch 51/150\n",
      "49/49 [==============================] - 84s 2s/step - loss: 2.6258 - accuracy: 0.3385\n",
      "Epoch 52/150\n",
      "49/49 [==============================] - 85s 2s/step - loss: 2.6126 - accuracy: 0.3405\n",
      "Epoch 53/150\n",
      "49/49 [==============================] - 85s 2s/step - loss: 2.6086 - accuracy: 0.3422\n",
      "Epoch 54/150\n",
      "49/49 [==============================] - 85s 2s/step - loss: 2.6028 - accuracy: 0.3440\n",
      "Epoch 55/150\n",
      "49/49 [==============================] - 85s 2s/step - loss: 2.5983 - accuracy: 0.3443\n",
      "Epoch 56/150\n",
      "49/49 [==============================] - 84s 2s/step - loss: 2.5913 - accuracy: 0.3487\n",
      "Epoch 57/150\n",
      "49/49 [==============================] - 85s 2s/step - loss: 2.5816 - accuracy: 0.3491\n",
      "Epoch 58/150\n",
      "49/49 [==============================] - 85s 2s/step - loss: 2.5787 - accuracy: 0.3505\n",
      "Epoch 59/150\n",
      "49/49 [==============================] - 88s 2s/step - loss: 2.5705 - accuracy: 0.3541\n",
      "Epoch 60/150\n",
      "49/49 [==============================] - 87s 2s/step - loss: 2.5696 - accuracy: 0.3523\n",
      "Epoch 61/150\n",
      "49/49 [==============================] - 84s 2s/step - loss: 2.5588 - accuracy: 0.3544\n",
      "Epoch 62/150\n",
      "49/49 [==============================] - 85s 2s/step - loss: 2.5573 - accuracy: 0.3550\n",
      "Epoch 63/150\n",
      "49/49 [==============================] - 85s 2s/step - loss: 2.5467 - accuracy: 0.3549\n",
      "Epoch 64/150\n",
      "49/49 [==============================] - 85s 2s/step - loss: 2.5425 - accuracy: 0.3590\n",
      "Epoch 65/150\n",
      "49/49 [==============================] - 85s 2s/step - loss: 2.5388 - accuracy: 0.3583\n",
      "Epoch 66/150\n",
      "49/49 [==============================] - 85s 2s/step - loss: 2.5352 - accuracy: 0.3609\n",
      "Epoch 67/150\n",
      "49/49 [==============================] - 85s 2s/step - loss: 2.5310 - accuracy: 0.3590\n",
      "Epoch 68/150\n",
      "49/49 [==============================] - 85s 2s/step - loss: 2.5272 - accuracy: 0.3623\n",
      "Epoch 69/150\n",
      "49/49 [==============================] - 85s 2s/step - loss: 2.5150 - accuracy: 0.3655\n",
      "Epoch 70/150\n",
      "49/49 [==============================] - 85s 2s/step - loss: 2.5169 - accuracy: 0.3628\n",
      "Epoch 71/150\n",
      "49/49 [==============================] - 85s 2s/step - loss: 2.5114 - accuracy: 0.3651\n",
      "Epoch 72/150\n",
      "49/49 [==============================] - 85s 2s/step - loss: 2.4976 - accuracy: 0.3678\n",
      "Epoch 73/150\n",
      "49/49 [==============================] - 85s 2s/step - loss: 2.4999 - accuracy: 0.3677\n",
      "Epoch 74/150\n",
      "49/49 [==============================] - 85s 2s/step - loss: 2.4961 - accuracy: 0.3698\n",
      "Epoch 75/150\n",
      "49/49 [==============================] - 85s 2s/step - loss: 2.4893 - accuracy: 0.3716\n",
      "Epoch 76/150\n",
      "49/49 [==============================] - 85s 2s/step - loss: 2.4862 - accuracy: 0.3731\n",
      "Epoch 77/150\n",
      "49/49 [==============================] - 85s 2s/step - loss: 2.4820 - accuracy: 0.3715\n",
      "Epoch 78/150\n",
      "49/49 [==============================] - 84s 2s/step - loss: 2.4808 - accuracy: 0.3724\n",
      "Epoch 79/150\n",
      "49/49 [==============================] - 85s 2s/step - loss: 2.4771 - accuracy: 0.3757\n",
      "Epoch 80/150\n",
      "49/49 [==============================] - 86s 2s/step - loss: 2.4700 - accuracy: 0.3733\n",
      "Epoch 81/150\n",
      "49/49 [==============================] - 85s 2s/step - loss: 2.4658 - accuracy: 0.3773\n",
      "Epoch 82/150\n",
      "49/49 [==============================] - 85s 2s/step - loss: 2.4643 - accuracy: 0.3752\n",
      "Epoch 83/150\n",
      "49/49 [==============================] - 85s 2s/step - loss: 2.4634 - accuracy: 0.3767\n",
      "Epoch 84/150\n",
      "49/49 [==============================] - 85s 2s/step - loss: 2.4555 - accuracy: 0.3800\n",
      "Epoch 85/150\n",
      "49/49 [==============================] - 85s 2s/step - loss: 2.4570 - accuracy: 0.3794\n",
      "Epoch 86/150\n",
      "49/49 [==============================] - 84s 2s/step - loss: 2.4479 - accuracy: 0.3793\n",
      "Epoch 87/150\n",
      "49/49 [==============================] - 85s 2s/step - loss: 2.4457 - accuracy: 0.3813\n",
      "Epoch 88/150\n",
      "49/49 [==============================] - 85s 2s/step - loss: 2.4412 - accuracy: 0.3827\n",
      "Epoch 89/150\n",
      "49/49 [==============================] - 87s 2s/step - loss: 2.4412 - accuracy: 0.3808\n",
      "Epoch 90/150\n",
      "49/49 [==============================] - 87s 2s/step - loss: 2.4357 - accuracy: 0.3837\n",
      "Epoch 91/150\n",
      "49/49 [==============================] - 87s 2s/step - loss: 2.4358 - accuracy: 0.3841\n",
      "Epoch 92/150\n",
      "49/49 [==============================] - 86s 2s/step - loss: 2.4278 - accuracy: 0.3846\n",
      "Epoch 93/150\n",
      "49/49 [==============================] - 86s 2s/step - loss: 2.4190 - accuracy: 0.3865\n",
      "Epoch 94/150\n",
      "49/49 [==============================] - 87s 2s/step - loss: 2.4199 - accuracy: 0.3878\n",
      "Epoch 95/150\n",
      "49/49 [==============================] - 86s 2s/step - loss: 2.4221 - accuracy: 0.3877\n",
      "Epoch 96/150\n",
      "49/49 [==============================] - 86s 2s/step - loss: 2.4138 - accuracy: 0.3870\n",
      "Epoch 97/150\n",
      "49/49 [==============================] - 85s 2s/step - loss: 2.4135 - accuracy: 0.3880\n",
      "Epoch 98/150\n",
      "49/49 [==============================] - 87s 2s/step - loss: 2.4150 - accuracy: 0.3864\n",
      "Epoch 99/150\n",
      "49/49 [==============================] - 89s 2s/step - loss: 2.4027 - accuracy: 0.3919\n",
      "Epoch 100/150\n",
      "49/49 [==============================] - 87s 2s/step - loss: 2.3993 - accuracy: 0.3904\n",
      "Epoch 101/150\n",
      "49/49 [==============================] - 86s 2s/step - loss: 2.3990 - accuracy: 0.3923\n",
      "Epoch 102/150\n",
      "49/49 [==============================] - 85s 2s/step - loss: 2.3985 - accuracy: 0.3920\n",
      "Epoch 103/150\n",
      "49/49 [==============================] - 85s 2s/step - loss: 2.3895 - accuracy: 0.3907\n",
      "Epoch 104/150\n",
      "49/49 [==============================] - 85s 2s/step - loss: 2.3946 - accuracy: 0.3919\n",
      "Epoch 105/150\n",
      "49/49 [==============================] - 85s 2s/step - loss: 2.3859 - accuracy: 0.3967\n",
      "Epoch 106/150\n",
      "49/49 [==============================] - 85s 2s/step - loss: 2.3866 - accuracy: 0.3948\n",
      "Epoch 107/150\n",
      "49/49 [==============================] - 85s 2s/step - loss: 2.3823 - accuracy: 0.3960\n",
      "Epoch 108/150\n",
      "49/49 [==============================] - 86s 2s/step - loss: 2.3814 - accuracy: 0.3981\n",
      "Epoch 109/150\n",
      "49/49 [==============================] - 85s 2s/step - loss: 2.3767 - accuracy: 0.3992\n",
      "Epoch 110/150\n",
      "49/49 [==============================] - 85s 2s/step - loss: 2.3821 - accuracy: 0.3952\n",
      "Epoch 111/150\n",
      "49/49 [==============================] - 85s 2s/step - loss: 2.3756 - accuracy: 0.3966\n",
      "Epoch 112/150\n",
      "49/49 [==============================] - 85s 2s/step - loss: 2.3679 - accuracy: 0.3980\n",
      "Epoch 113/150\n",
      "49/49 [==============================] - 85s 2s/step - loss: 2.3664 - accuracy: 0.3998\n",
      "Epoch 114/150\n",
      "49/49 [==============================] - 85s 2s/step - loss: 2.3695 - accuracy: 0.3997\n",
      "Epoch 115/150\n",
      "49/49 [==============================] - 86s 2s/step - loss: 2.3627 - accuracy: 0.4008\n",
      "Epoch 116/150\n",
      "49/49 [==============================] - 85s 2s/step - loss: 2.3584 - accuracy: 0.4017\n",
      "Epoch 117/150\n",
      "49/49 [==============================] - 85s 2s/step - loss: 2.3559 - accuracy: 0.4007\n",
      "Epoch 118/150\n",
      "49/49 [==============================] - 85s 2s/step - loss: 2.3609 - accuracy: 0.4009\n",
      "Epoch 119/150\n",
      "49/49 [==============================] - 85s 2s/step - loss: 2.3568 - accuracy: 0.4004\n",
      "Epoch 120/150\n",
      "49/49 [==============================] - 85s 2s/step - loss: 2.3542 - accuracy: 0.4025\n",
      "Epoch 121/150\n",
      "49/49 [==============================] - 85s 2s/step - loss: 2.3529 - accuracy: 0.4045\n",
      "Epoch 122/150\n",
      "49/49 [==============================] - 86s 2s/step - loss: 2.3484 - accuracy: 0.4044\n",
      "Epoch 123/150\n",
      "49/49 [==============================] - 85s 2s/step - loss: 2.3404 - accuracy: 0.4050\n",
      "Epoch 124/150\n",
      "49/49 [==============================] - 85s 2s/step - loss: 2.3457 - accuracy: 0.4057\n",
      "Epoch 125/150\n",
      "49/49 [==============================] - 85s 2s/step - loss: 2.3389 - accuracy: 0.4063\n",
      "Epoch 126/150\n",
      "49/49 [==============================] - 86s 2s/step - loss: 2.3389 - accuracy: 0.4083\n",
      "Epoch 127/150\n",
      "49/49 [==============================] - 85s 2s/step - loss: 2.3381 - accuracy: 0.4057\n",
      "Epoch 128/150\n",
      "49/49 [==============================] - 84s 2s/step - loss: 2.3325 - accuracy: 0.4055\n",
      "Epoch 129/150\n",
      "49/49 [==============================] - 85s 2s/step - loss: 2.3385 - accuracy: 0.4046\n",
      "Epoch 130/150\n",
      "49/49 [==============================] - 85s 2s/step - loss: 2.3295 - accuracy: 0.4086\n",
      "Epoch 131/150\n",
      "49/49 [==============================] - 85s 2s/step - loss: 2.3268 - accuracy: 0.4090\n",
      "Epoch 132/150\n",
      "49/49 [==============================] - 85s 2s/step - loss: 2.3348 - accuracy: 0.4089\n",
      "Epoch 133/150\n",
      "49/49 [==============================] - 86s 2s/step - loss: 2.3278 - accuracy: 0.4083\n",
      "Epoch 134/150\n",
      "49/49 [==============================] - 85s 2s/step - loss: 2.3254 - accuracy: 0.4092\n",
      "Epoch 135/150\n",
      "49/49 [==============================] - 84s 2s/step - loss: 2.3247 - accuracy: 0.4114\n",
      "Epoch 136/150\n",
      "49/49 [==============================] - 86s 2s/step - loss: 2.3180 - accuracy: 0.4128\n",
      "Epoch 137/150\n",
      "49/49 [==============================] - 85s 2s/step - loss: 2.3253 - accuracy: 0.4108\n",
      "Epoch 138/150\n",
      "49/49 [==============================] - 85s 2s/step - loss: 2.3218 - accuracy: 0.4101\n",
      "Epoch 139/150\n",
      "49/49 [==============================] - 85s 2s/step - loss: 2.3154 - accuracy: 0.4137\n",
      "Epoch 140/150\n",
      "49/49 [==============================] - 88s 2s/step - loss: 2.3108 - accuracy: 0.4136\n",
      "Epoch 141/150\n",
      "49/49 [==============================] - 88s 2s/step - loss: 2.3137 - accuracy: 0.4143\n",
      "Epoch 142/150\n",
      "49/49 [==============================] - 87s 2s/step - loss: 2.3091 - accuracy: 0.4135\n",
      "Epoch 143/150\n",
      "49/49 [==============================] - 85s 2s/step - loss: 2.3125 - accuracy: 0.4114\n",
      "Epoch 144/150\n",
      "49/49 [==============================] - 86s 2s/step - loss: 2.3038 - accuracy: 0.4170\n",
      "Epoch 145/150\n",
      "49/49 [==============================] - 85s 2s/step - loss: 2.3050 - accuracy: 0.4149\n",
      "Epoch 146/150\n",
      "49/49 [==============================] - 85s 2s/step - loss: 2.3031 - accuracy: 0.4162\n",
      "Epoch 147/150\n",
      "49/49 [==============================] - 86s 2s/step - loss: 2.3060 - accuracy: 0.4145\n",
      "Epoch 148/150\n",
      "49/49 [==============================] - 85s 2s/step - loss: 2.3058 - accuracy: 0.4122\n",
      "Epoch 149/150\n",
      "49/49 [==============================] - 85s 2s/step - loss: 2.3041 - accuracy: 0.4165\n",
      "Epoch 150/150\n",
      "49/49 [==============================] - 85s 2s/step - loss: 2.2981 - accuracy: 0.4156\n"
     ]
    }
   ],
   "source": [
    "history = model.fit(\n",
    "    x_train,\n",
    "    y_train,\n",
    "    epochs=150,\n",
    "    batch_size=1024,\n",
    ")\n"
   ]
  },
  {
   "cell_type": "code",
   "execution_count": 82,
   "id": "025c08c4",
   "metadata": {},
   "outputs": [
    {
     "name": "stdout",
     "output_type": "stream",
     "text": [
      "313/313 [==============================] - 11s 31ms/step - loss: 2.5732 - accuracy: 0.3727\n",
      "Loss (categorical_crossentropy):     2.57\n",
      "Accuracy: 37.27%\n"
     ]
    }
   ],
   "source": [
    "loss, accuracy = model.evaluate(x_test, y_test)\n",
    "print(f'Loss (categorical_crossentropy):     {loss:.2f}')\n",
    "print(f'Accuracy: {accuracy*100:.2f}%')"
   ]
  },
  {
   "cell_type": "code",
   "execution_count": null,
   "id": "733393cb",
   "metadata": {},
   "outputs": [
    {
     "data": {
      "image/png": "[encoded data removed]",
      "text/plain": [
       "<Figure size 640x480 with 1 Axes>"
      ]
     },
     "metadata": {},
     "output_type": "display_data"
    }
   ],
   "source": [
    "# reference: github.com/Uoft-DSI/deep_learning/01_materials/labs/lab5.ipynb\n",
    "import matplotlib.pyplot as plt\n",
    "plt.plot(np.log(history.history[\"loss\"]), label=\"loss\")\n",
    "plt.plot(np.log(history.history[\"accuracy\"]), label=\"accuracy\")\n",
    "plt.legend(loc=\"upper center\")\n",
    "plt.xlabel(\"Epochs\")\n",
    "plt.ylabel(\"Loss\")\n",
    "plt.title(\"Training accuracy and loss\")\n",
    "plt.show()"
   ]
  },
  {
   "cell_type": "markdown",
   "id": "eadfc848700215e8",
   "metadata": {
    "collapsed": false
   },
   "source": [
    "### Task 4c: Discussion of the results\n",
    "\n",
    "- Briefly discuss the results. \n",
    "- Did the model's performance improve? \n",
    "- Why do you think this is?\n",
    "- Do you think there is room for further improvement? Why or why not?\n",
    "- What other techniques might you try in the future?\n",
    "- Your answer should be no more than 200 words.\n",
    "\n",
    "> A Dense Net with 2 dense layers did not improve the performance of the model remaining at roughly 30% accuracy. A deeper model with 5 dense layers increased accuracy up to 37%.\n",
    ">\n",
    "> Training improved by increasing batch sizes from 64 up to 256 and negligibly improved when batch sizes were increased up to 1024. In general when batches were less than the number of classes then training improved accuracy inconsistently and reversed improvements frequently. When batch sizes were double the number of classes or more then training proceeded as expected and asymptotically slowed down near 30%\n",
    ">\n",
    "> Another happy improvement was a decrease in the rate of divergence between validation accuracy and training accuracy. This reduction indicated less overfitting per epoch and hence improved the validation accuracy. These effects came from using regularization and drop-out.\n",
    ">\n",
    "> I was hoping to reach 50% validation accuracy from the model architecture alone. However, I think the CIFAR-100 data set is too small alone to learn the convolution layers needed to analyze images let alone form these 100 classes.\n",
    ">\n",
    "> The next approach to try to improve model performance will be data augmentation. Introducing copies of the data with 0-30 degree rotations and 5-20% crops could help solve the insufficiency of training data.\n",
    ">\n",
    "> An alternative or supplement to data augmentation would be to specialize a pre-trained model. Specifically a model that has been trained on ImageNet (millions of images) would have high quality convolution filters to begin with. Ignoring those pre-trained weights but adding layers to then be trained on the CIFAR-100 data + augmented data to specialize the models classification to CIFAR 100's classes"
   ]
  },
  {
   "cell_type": "markdown",
   "id": "7415f68f",
   "metadata": {},
   "source": [
    "## Criteria\n",
    "\n",
    "|Criteria|Complete|Incomplete|\n",
    "|----|----|----|\n",
    "|Task 1|The task has been completed successfully and there are no errors.|The task is still incomplete and there is at least one error.|\n",
    "|Task 2|The task has been completed successfully and there are no errors.|The task is still incomplete and there is at least one error.|\n",
    "|Task 3|The task has been completed successfully and there are no errors.|The task is still incomplete and there is at least one error.|\n",
    "|Task 4|The task has been completed successfully and there are no errors.|The task is still incomplete and there is at least one error.|"
   ]
  },
  {
   "cell_type": "markdown",
   "id": "ad0c10bc",
   "metadata": {},
   "source": [
    "## Submission Information\n",
    "\n",
    "🚨 **Please review our [Assignment Submission Guide](https://github.com/UofT-DSI/onboarding/blob/main/onboarding_documents/submissions.md)** 🚨 for detailed instructions on how to format, branch, and submit your work. Following these guidelines is crucial for your submissions to be evaluated correctly.\n",
    "\n",
    "### Submission Parameters:\n",
    "* Submission Due Date: `HH:MM AM/PM - DD/MM/YYYY`\n",
    "* The branch name for your repo should be: `assignment-1`\n",
    "* What to submit for this assignment:\n",
    "    * This Jupyter Notebook (assignment_1.ipynb) should be populated and should be the only change in your pull request.\n",
    "* What the pull request link should look like for this assignment: `https://github.com/<your_github_username>/deep_learning/pull/<pr_id>`\n",
    "    * Open a private window in your browser. Copy and paste the link to your pull request into the address bar. Make sure you can see your pull request properly. This helps the technical facilitator and learning support staff review your submission easily.\n",
    "\n",
    "Checklist:\n",
    "- [ ] Created a branch with the correct naming convention.\n",
    "- [ ] Ensured that the repository is public.\n",
    "- [ ] Reviewed the PR description guidelines and adhered to them.\n",
    "- [ ] Verify that the link is accessible in a private browser window.\n",
    "\n",
    "If you encounter any difficulties or have questions, please don't hesitate to reach out to our team via our Slack at `#cohort-3-help`. Our Technical Facilitators and Learning Support staff are here to help you navigate any challenges."
   ]
  }
 ],
 "metadata": {
  "kernelspec": {
   "display_name": "Python 3 (ipykernel)",
   "language": "python",
   "name": "python3"
  },
  "language_info": {
   "codemirror_mode": {
    "name": "ipython",
    "version": 3
   },
   "file_extension": ".py",
   "mimetype": "text/x-python",
   "name": "python",
   "nbconvert_exporter": "python",
   "pygments_lexer": "ipython3",
   "version": "3.9.19"
  }
 },
 "nbformat": 4,
 "nbformat_minor": 5
}
